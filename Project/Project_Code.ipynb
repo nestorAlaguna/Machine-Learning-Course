{
  "nbformat": 4,
  "nbformat_minor": 0,
  "metadata": {
    "accelerator": "GPU",
    "colab": {
      "name": "Project_Code.ipynb",
      "provenance": [],
      "collapsed_sections": []
    },
    "kernelspec": {
      "display_name": "Python 3",
      "name": "python3"
    }
  },
  "cells": [
    {
      "cell_type": "code",
      "metadata": {
        "colab": {
          "base_uri": "https://localhost:8080/"
        },
        "id": "uVaMG_SPzmk9",
        "outputId": "1c1957d2-bb98-48d6-8cc1-7796aa191926"
      },
      "source": [
        "#cifer or imagenet\n",
        "from keras.datasets import cifar10\n",
        "(x_train, y_train), (x_test, y_test) = cifar10.load_data()\n",
        "# train split to validation\n",
        "from sklearn.model_selection import train_test_split\n",
        "x_train1, x_valid, y_train1, y_valid = train_test_split(x_train, y_train, test_size=0.2)\n",
        "\n",
        "x_train1 = x_train1.astype('float32') / 255 \n",
        "x_valid = x_valid.astype('float32') / 255\n",
        "x_test = x_test.astype('float32') / 255\n",
        "\n",
        "from keras.utils.np_utils import to_categorical\n",
        "N = 10\n",
        "y_train1 = to_categorical(y_train1, N)#.reshape(-1,1,1,10)\n",
        "y_valid = to_categorical(y_valid, N)#.reshape(-1,1,1,10)\n",
        "y_test = to_categorical(y_test, N)#.reshape(-1,1,1,10)\n",
        "\n",
        "print(x_train1.shape)\n",
        "print(x_valid.shape)\n",
        "print(x_test.shape)"
      ],
      "execution_count": 2,
      "outputs": [
        {
          "output_type": "stream",
          "text": [
            "(40000, 32, 32, 3)\n",
            "(10000, 32, 32, 3)\n",
            "(10000, 32, 32, 3)\n"
          ],
          "name": "stdout"
        }
      ]
    },
    {
      "cell_type": "code",
      "metadata": {
        "id": "0CQbRJjUz5pX"
      },
      "source": [
        "from keras.models import Sequential\n",
        "from keras.layers import Dense, Dropout, SpatialDropout2D, BatchNormalization, Flatten, Activation\n",
        "from keras.layers import Conv2D, MaxPooling2D, Conv1D\n",
        "from keras.callbacks import ModelCheckpoint\n",
        "\n",
        "def Model():\n",
        "  \n",
        "    model = Sequential()\n",
        "    \n",
        "    model.add(Conv2D(64, kernel_size=(5,5), strides = 1, padding='same', input_shape=(32, 32, 3)))\n",
        "    #model.add(BatchNormalization())\n",
        "    model.add(SpatialDropout2D(rate=0.2))\n",
        "    model.add(Activation('relu'))\n",
        "    model.add(MaxPooling2D(pool_size=(2,2),  strides = 2))\n",
        "    \n",
        "    model.add(Conv2D(192, kernel_size=(5,5), strides = 1, padding='same'))\n",
        "    #model.add(BatchNormalization())\n",
        "    model.add(SpatialDropout2D(rate=0.2))\n",
        "    model.add(Activation('relu'))\n",
        "    model.add(MaxPooling2D(pool_size=(2,2),  strides = 2))\n",
        "    \n",
        "    model.add(Conv2D(384, kernel_size=(3,3), strides = 1, padding='same'))\n",
        "    #model.add(BatchNormalization())\n",
        "    model.add(SpatialDropout2D(rate=0.2))\n",
        "    model.add(Activation('relu'))\n",
        "    model.add(MaxPooling2D(pool_size=(2,2),  strides = 2))\n",
        "    \n",
        "    model.add(Conv2D(256, kernel_size=(5,5), strides = 1, padding='same'))\n",
        "    #model.add(BatchNormalization())\n",
        "    model.add(SpatialDropout2D(rate=0.2))\n",
        "    model.add(Activation('relu'))\n",
        "    model.add(MaxPooling2D(pool_size=(2,2),  strides = 2))\n",
        "    \n",
        "    model.add(Conv2D(256, kernel_size=(5,5), strides = 1, padding='same'))\n",
        "    #model.add(BatchNormalization())\n",
        "    model.add(SpatialDropout2D(rate=0.2))\n",
        "    model.add(Activation('relu'))\n",
        "    model.add(MaxPooling2D(pool_size=(2,2), strides = 2))\n",
        "    \n",
        "    #model.add(Activation('relu'))\n",
        "    model.add(Flatten())\n",
        "    \n",
        "    #model.add(Conv2D(4096, kernel_size=(1,1), strides = 1, padding='same'))\n",
        "    model.add(Dense(4096))\n",
        "    #model.add(BatchNormalization())\n",
        "    model.add(Activation('relu'))\n",
        "    model.add(Dropout(rate=0.2))\n",
        "    \n",
        "    #model.add(Conv2D(4096, kernel_size=(1,1), strides = 1, padding='same'))\n",
        "    model.add(Dense(4096))\n",
        "    #model.add(BatchNormalization())\n",
        "    model.add(Activation('relu'))\n",
        "    model.add(Dropout(rate=0.2))\n",
        "    \n",
        "    #model.add(Conv2D(10, kernel_size=(1,1), strides = 1, padding='same'))\n",
        "    model.add(Dense(10))\n",
        "    model.add(Activation('softmax'))\n",
        "    return model\n",
        "\n",
        "model = Model()\n",
        "\n",
        "from keras.optimizers import RMSprop\n",
        "model.compile(loss='categorical_crossentropy',\n",
        "              # optimizer=RMSprop(learning_rate = 0.001),\n",
        "              optimizer = 'adam',\n",
        "              metrics=['accuracy'])\n",
        "checkpoint_cb = ModelCheckpoint(\"Model_50_55355_32_0.2_0.2_adam\", save_best_only=True)"
      ],
      "execution_count": 3,
      "outputs": []
    },
    {
      "cell_type": "code",
      "metadata": {
        "colab": {
          "base_uri": "https://localhost:8080/"
        },
        "id": "SmJtUM1-z6gW",
        "outputId": "60f143e9-d9ac-4d61-bb3f-901fb3d57234"
      },
      "source": [
        "# verbose = progress bar setting\n",
        "history = model.fit(x_train1, y_train1, batch_size=32, epochs=50, verbose=1, validation_data=(x_valid, y_valid), callbacks=[checkpoint_cb])"
      ],
      "execution_count": 4,
      "outputs": [
        {
          "output_type": "stream",
          "text": [
            "Epoch 1/50\n",
            "1250/1250 [==============================] - 69s 19ms/step - loss: 2.1695 - accuracy: 0.1598 - val_loss: 1.6688 - val_accuracy: 0.3711\n",
            "INFO:tensorflow:Assets written to: Model_50_55355_32_0.2_0.2_adam/assets\n",
            "Epoch 2/50\n",
            "1250/1250 [==============================] - 24s 20ms/step - loss: 1.7191 - accuracy: 0.3591 - val_loss: 1.4971 - val_accuracy: 0.4571\n",
            "INFO:tensorflow:Assets written to: Model_50_55355_32_0.2_0.2_adam/assets\n",
            "Epoch 3/50\n",
            "1250/1250 [==============================] - 24s 19ms/step - loss: 1.5671 - accuracy: 0.4251 - val_loss: 1.3590 - val_accuracy: 0.5065\n",
            "INFO:tensorflow:Assets written to: Model_50_55355_32_0.2_0.2_adam/assets\n",
            "Epoch 4/50\n",
            "1250/1250 [==============================] - 25s 20ms/step - loss: 1.4763 - accuracy: 0.4622 - val_loss: 1.3212 - val_accuracy: 0.5303\n",
            "INFO:tensorflow:Assets written to: Model_50_55355_32_0.2_0.2_adam/assets\n",
            "Epoch 5/50\n",
            "1250/1250 [==============================] - 23s 19ms/step - loss: 1.4011 - accuracy: 0.5005 - val_loss: 1.2089 - val_accuracy: 0.5660\n",
            "INFO:tensorflow:Assets written to: Model_50_55355_32_0.2_0.2_adam/assets\n",
            "Epoch 6/50\n",
            "1250/1250 [==============================] - 24s 19ms/step - loss: 1.3526 - accuracy: 0.5178 - val_loss: 1.2087 - val_accuracy: 0.5732\n",
            "INFO:tensorflow:Assets written to: Model_50_55355_32_0.2_0.2_adam/assets\n",
            "Epoch 7/50\n",
            "1250/1250 [==============================] - 23s 19ms/step - loss: 1.3116 - accuracy: 0.5387 - val_loss: 1.2039 - val_accuracy: 0.5685\n",
            "INFO:tensorflow:Assets written to: Model_50_55355_32_0.2_0.2_adam/assets\n",
            "Epoch 8/50\n",
            "1250/1250 [==============================] - 23s 19ms/step - loss: 1.2744 - accuracy: 0.5522 - val_loss: 1.1274 - val_accuracy: 0.6104\n",
            "INFO:tensorflow:Assets written to: Model_50_55355_32_0.2_0.2_adam/assets\n",
            "Epoch 9/50\n",
            "1250/1250 [==============================] - 23s 19ms/step - loss: 1.2364 - accuracy: 0.5625 - val_loss: 1.1063 - val_accuracy: 0.6155\n",
            "INFO:tensorflow:Assets written to: Model_50_55355_32_0.2_0.2_adam/assets\n",
            "Epoch 10/50\n",
            "1250/1250 [==============================] - 24s 19ms/step - loss: 1.2150 - accuracy: 0.5757 - val_loss: 1.0682 - val_accuracy: 0.6285\n",
            "INFO:tensorflow:Assets written to: Model_50_55355_32_0.2_0.2_adam/assets\n",
            "Epoch 11/50\n",
            "1250/1250 [==============================] - 23s 19ms/step - loss: 1.1870 - accuracy: 0.5886 - val_loss: 1.0530 - val_accuracy: 0.6368\n",
            "INFO:tensorflow:Assets written to: Model_50_55355_32_0.2_0.2_adam/assets\n",
            "Epoch 12/50\n",
            "1250/1250 [==============================] - 23s 19ms/step - loss: 1.1770 - accuracy: 0.5940 - val_loss: 1.0612 - val_accuracy: 0.6384\n",
            "Epoch 13/50\n",
            "1250/1250 [==============================] - 23s 19ms/step - loss: 1.1276 - accuracy: 0.6106 - val_loss: 1.0350 - val_accuracy: 0.6411\n",
            "INFO:tensorflow:Assets written to: Model_50_55355_32_0.2_0.2_adam/assets\n",
            "Epoch 14/50\n",
            "1250/1250 [==============================] - 23s 19ms/step - loss: 1.1177 - accuracy: 0.6179 - val_loss: 0.9677 - val_accuracy: 0.6602\n",
            "INFO:tensorflow:Assets written to: Model_50_55355_32_0.2_0.2_adam/assets\n",
            "Epoch 15/50\n",
            "1250/1250 [==============================] - 23s 19ms/step - loss: 1.1045 - accuracy: 0.6220 - val_loss: 0.9758 - val_accuracy: 0.6591\n",
            "Epoch 16/50\n",
            "1250/1250 [==============================] - 24s 19ms/step - loss: 1.0644 - accuracy: 0.6356 - val_loss: 0.9668 - val_accuracy: 0.6660\n",
            "INFO:tensorflow:Assets written to: Model_50_55355_32_0.2_0.2_adam/assets\n",
            "Epoch 17/50\n",
            "1250/1250 [==============================] - 23s 19ms/step - loss: 1.0488 - accuracy: 0.6443 - val_loss: 0.9915 - val_accuracy: 0.6600\n",
            "Epoch 18/50\n",
            "1250/1250 [==============================] - 24s 19ms/step - loss: 1.0337 - accuracy: 0.6509 - val_loss: 0.9613 - val_accuracy: 0.6738\n",
            "INFO:tensorflow:Assets written to: Model_50_55355_32_0.2_0.2_adam/assets\n",
            "Epoch 19/50\n",
            "1250/1250 [==============================] - 23s 19ms/step - loss: 1.0096 - accuracy: 0.6633 - val_loss: 0.9886 - val_accuracy: 0.6709\n",
            "Epoch 20/50\n",
            "1250/1250 [==============================] - 24s 19ms/step - loss: 1.0159 - accuracy: 0.6575 - val_loss: 0.9558 - val_accuracy: 0.6686\n",
            "INFO:tensorflow:Assets written to: Model_50_55355_32_0.2_0.2_adam/assets\n",
            "Epoch 21/50\n",
            "1250/1250 [==============================] - 24s 19ms/step - loss: 0.9869 - accuracy: 0.6680 - val_loss: 0.9259 - val_accuracy: 0.6877\n",
            "INFO:tensorflow:Assets written to: Model_50_55355_32_0.2_0.2_adam/assets\n",
            "Epoch 22/50\n",
            "1250/1250 [==============================] - 24s 19ms/step - loss: 0.9968 - accuracy: 0.6652 - val_loss: 0.9235 - val_accuracy: 0.6849\n",
            "INFO:tensorflow:Assets written to: Model_50_55355_32_0.2_0.2_adam/assets\n",
            "Epoch 23/50\n",
            "1250/1250 [==============================] - 23s 19ms/step - loss: 0.9763 - accuracy: 0.6712 - val_loss: 0.9156 - val_accuracy: 0.6858\n",
            "INFO:tensorflow:Assets written to: Model_50_55355_32_0.2_0.2_adam/assets\n",
            "Epoch 24/50\n",
            "1250/1250 [==============================] - 25s 20ms/step - loss: 0.9407 - accuracy: 0.6856 - val_loss: 0.9270 - val_accuracy: 0.6805\n",
            "Epoch 25/50\n",
            "1250/1250 [==============================] - 23s 19ms/step - loss: 0.9427 - accuracy: 0.6872 - val_loss: 0.9299 - val_accuracy: 0.6872\n",
            "Epoch 26/50\n",
            "1250/1250 [==============================] - 23s 19ms/step - loss: 0.9300 - accuracy: 0.6852 - val_loss: 0.9320 - val_accuracy: 0.6864\n",
            "Epoch 27/50\n",
            "1250/1250 [==============================] - 23s 19ms/step - loss: 0.9183 - accuracy: 0.6962 - val_loss: 0.9325 - val_accuracy: 0.6850\n",
            "Epoch 28/50\n",
            "1250/1250 [==============================] - 23s 19ms/step - loss: 0.9142 - accuracy: 0.6953 - val_loss: 0.8937 - val_accuracy: 0.6978\n",
            "INFO:tensorflow:Assets written to: Model_50_55355_32_0.2_0.2_adam/assets\n",
            "Epoch 29/50\n",
            "1250/1250 [==============================] - 24s 19ms/step - loss: 0.9150 - accuracy: 0.7000 - val_loss: 0.8628 - val_accuracy: 0.7120\n",
            "INFO:tensorflow:Assets written to: Model_50_55355_32_0.2_0.2_adam/assets\n",
            "Epoch 30/50\n",
            "1250/1250 [==============================] - 25s 20ms/step - loss: 0.9824 - accuracy: 0.6801 - val_loss: 0.9174 - val_accuracy: 0.6793\n",
            "Epoch 31/50\n",
            "1250/1250 [==============================] - 24s 19ms/step - loss: 0.9200 - accuracy: 0.6988 - val_loss: 1.6280 - val_accuracy: 0.4652\n",
            "Epoch 32/50\n",
            "1250/1250 [==============================] - 23s 19ms/step - loss: 1.2906 - accuracy: 0.5607 - val_loss: 0.8483 - val_accuracy: 0.7160\n",
            "INFO:tensorflow:Assets written to: Model_50_55355_32_0.2_0.2_adam/assets\n",
            "Epoch 33/50\n",
            "1250/1250 [==============================] - 24s 19ms/step - loss: 1.0234 - accuracy: 0.6662 - val_loss: 0.9016 - val_accuracy: 0.6969\n",
            "Epoch 34/50\n",
            "1250/1250 [==============================] - 23s 19ms/step - loss: 0.8733 - accuracy: 0.7114 - val_loss: 0.8617 - val_accuracy: 0.7149\n",
            "Epoch 35/50\n",
            "1250/1250 [==============================] - 24s 19ms/step - loss: 0.8617 - accuracy: 0.7201 - val_loss: 0.8497 - val_accuracy: 0.7175\n",
            "Epoch 36/50\n",
            "1250/1250 [==============================] - 23s 19ms/step - loss: 0.8433 - accuracy: 0.7234 - val_loss: 0.8724 - val_accuracy: 0.7114\n",
            "Epoch 37/50\n",
            "1250/1250 [==============================] - 23s 19ms/step - loss: 0.8462 - accuracy: 0.7238 - val_loss: 0.8468 - val_accuracy: 0.7195\n",
            "INFO:tensorflow:Assets written to: Model_50_55355_32_0.2_0.2_adam/assets\n",
            "Epoch 38/50\n",
            "1250/1250 [==============================] - 24s 19ms/step - loss: 0.8614 - accuracy: 0.7210 - val_loss: 0.8627 - val_accuracy: 0.7137\n",
            "Epoch 39/50\n",
            "1250/1250 [==============================] - 24s 19ms/step - loss: 0.8779 - accuracy: 0.7152 - val_loss: 0.8405 - val_accuracy: 0.7167\n",
            "INFO:tensorflow:Assets written to: Model_50_55355_32_0.2_0.2_adam/assets\n",
            "Epoch 40/50\n",
            "1250/1250 [==============================] - 24s 19ms/step - loss: 0.8145 - accuracy: 0.7354 - val_loss: 0.8415 - val_accuracy: 0.7195\n",
            "Epoch 41/50\n",
            "1250/1250 [==============================] - 23s 19ms/step - loss: 1.0799 - accuracy: 0.6454 - val_loss: 0.8600 - val_accuracy: 0.7130\n",
            "Epoch 42/50\n",
            "1250/1250 [==============================] - 24s 19ms/step - loss: 0.8106 - accuracy: 0.7368 - val_loss: 0.8674 - val_accuracy: 0.7120\n",
            "Epoch 43/50\n",
            "1250/1250 [==============================] - 23s 19ms/step - loss: 0.8048 - accuracy: 0.7425 - val_loss: 0.8500 - val_accuracy: 0.7117\n",
            "Epoch 44/50\n",
            "1250/1250 [==============================] - 23s 19ms/step - loss: 0.8915 - accuracy: 0.7120 - val_loss: 0.8318 - val_accuracy: 0.7226\n",
            "INFO:tensorflow:Assets written to: Model_50_55355_32_0.2_0.2_adam/assets\n",
            "Epoch 45/50\n",
            "1250/1250 [==============================] - 25s 20ms/step - loss: 0.8865 - accuracy: 0.7139 - val_loss: 0.8401 - val_accuracy: 0.7233\n",
            "Epoch 46/50\n",
            "1250/1250 [==============================] - 23s 19ms/step - loss: 0.8296 - accuracy: 0.7315 - val_loss: 0.8427 - val_accuracy: 0.7211\n",
            "Epoch 47/50\n",
            "1250/1250 [==============================] - 23s 19ms/step - loss: 0.7812 - accuracy: 0.7470 - val_loss: 0.8270 - val_accuracy: 0.7319\n",
            "INFO:tensorflow:Assets written to: Model_50_55355_32_0.2_0.2_adam/assets\n",
            "Epoch 48/50\n",
            "1250/1250 [==============================] - 24s 19ms/step - loss: 0.8140 - accuracy: 0.7451 - val_loss: 0.8068 - val_accuracy: 0.7370\n",
            "INFO:tensorflow:Assets written to: Model_50_55355_32_0.2_0.2_adam/assets\n",
            "Epoch 49/50\n",
            "1250/1250 [==============================] - 23s 19ms/step - loss: 0.7853 - accuracy: 0.7492 - val_loss: 0.8858 - val_accuracy: 0.7146\n",
            "Epoch 50/50\n",
            "1250/1250 [==============================] - 23s 19ms/step - loss: 0.7893 - accuracy: 0.7495 - val_loss: 0.8230 - val_accuracy: 0.7310\n"
          ],
          "name": "stdout"
        }
      ]
    },
    {
      "cell_type": "code",
      "metadata": {
        "colab": {
          "base_uri": "https://localhost:8080/"
        },
        "id": "DqaSRMaw82B5",
        "outputId": "11476a39-1b59-4a51-d0a6-2deb738cb5b4"
      },
      "source": [
        "from keras.models import load_model\n",
        "import numpy as np\n",
        "# model.save_weights(\"mnist.hdf5\") \n",
        "model = load_model(\"Model_50_55355_32_0.2_0.2_adam\")\n",
        "\n",
        "score = model.evaluate(x_train1, y_train1, verbose=0)\n",
        "print('Training loss:', score[0])\n",
        "print('Training accuracy:', score[1])\n",
        "\n",
        "score = model.evaluate(x_test, y_test, verbose=0)\n",
        "print('Test loss:', score[0])\n",
        "print('Test accuracy:', score[1])"
      ],
      "execution_count": 5,
      "outputs": [
        {
          "output_type": "stream",
          "text": [
            "Training loss: 0.42032623291015625\n",
            "Training accuracy: 0.8754749894142151\n",
            "Test loss: 0.8167001008987427\n",
            "Test accuracy: 0.734499990940094\n"
          ],
          "name": "stdout"
        }
      ]
    },
    {
      "cell_type": "code",
      "metadata": {
        "colab": {
          "base_uri": "https://localhost:8080/",
          "height": 231
        },
        "id": "GUFgKHc-0TDt",
        "outputId": "1bb1d048-7cee-4b13-8e70-95840510779d"
      },
      "source": [
        "from matplotlib import pyplot as plt\n",
        "import numpy as np\n",
        "np.save(\"Model_50_55355_32_0.2_0.2_adam\",history.history)\n",
        "# plot\n",
        "plt.plot(history.history['accuracy'], marker='.', label='acc')\n",
        "plt.plot(history.history['val_accuracy'], marker='.', label='val_acc')\n",
        "plt.plot(history.history['score[1]'], marker='.', label='val_acc')\n",
        "\n",
        "plt.title('Model accuracy')\n",
        "plt.grid()\n",
        "plt.xlabel('epoch')\n",
        "plt.ylabel('accuracy')\n",
        "plt.legend(loc='best')\n",
        "plt.show()\n",
        "\n",
        "# plot\n",
        "plt.plot(history.history['loss'], marker='.', label='loss')\n",
        "plt.plot(history.history['val_loss'], marker='.', label='val_loss')\n",
        "plt.title('Model loss')\n",
        "plt.grid()\n",
        "plt.xlabel('epoch')\n",
        "plt.ylabel('loss')\n",
        "plt.legend(loc='best')\n",
        "plt.show()"
      ],
      "execution_count": null,
      "outputs": [
        {
          "output_type": "error",
          "ename": "NameError",
          "evalue": "ignored",
          "traceback": [
            "\u001b[0;31m---------------------------------------------------------------------------\u001b[0m",
            "\u001b[0;31mNameError\u001b[0m                                 Traceback (most recent call last)",
            "\u001b[0;32m<ipython-input-1-fa08b701d2b9>\u001b[0m in \u001b[0;36m<module>\u001b[0;34m()\u001b[0m\n\u001b[1;32m      1\u001b[0m \u001b[0;32mfrom\u001b[0m \u001b[0mmatplotlib\u001b[0m \u001b[0;32mimport\u001b[0m \u001b[0mpyplot\u001b[0m \u001b[0;32mas\u001b[0m \u001b[0mplt\u001b[0m\u001b[0;34m\u001b[0m\u001b[0;34m\u001b[0m\u001b[0m\n\u001b[1;32m      2\u001b[0m \u001b[0;32mimport\u001b[0m \u001b[0mnumpy\u001b[0m \u001b[0;32mas\u001b[0m \u001b[0mnp\u001b[0m\u001b[0;34m\u001b[0m\u001b[0;34m\u001b[0m\u001b[0m\n\u001b[0;32m----> 3\u001b[0;31m \u001b[0mnp\u001b[0m\u001b[0;34m.\u001b[0m\u001b[0msave\u001b[0m\u001b[0;34m(\u001b[0m\u001b[0;34m\"Model_50_55355_32_0.001_0.2_0.5_RMS\"\u001b[0m\u001b[0;34m,\u001b[0m\u001b[0mhistory\u001b[0m\u001b[0;34m.\u001b[0m\u001b[0mhistory\u001b[0m\u001b[0;34m)\u001b[0m\u001b[0;34m\u001b[0m\u001b[0;34m\u001b[0m\u001b[0m\n\u001b[0m\u001b[1;32m      4\u001b[0m \u001b[0;31m# plot\u001b[0m\u001b[0;34m\u001b[0m\u001b[0;34m\u001b[0m\u001b[0;34m\u001b[0m\u001b[0m\n\u001b[1;32m      5\u001b[0m \u001b[0mplt\u001b[0m\u001b[0;34m.\u001b[0m\u001b[0mplot\u001b[0m\u001b[0;34m(\u001b[0m\u001b[0mhistory\u001b[0m\u001b[0;34m.\u001b[0m\u001b[0mhistory\u001b[0m\u001b[0;34m[\u001b[0m\u001b[0;34m'accuracy'\u001b[0m\u001b[0;34m]\u001b[0m\u001b[0;34m,\u001b[0m \u001b[0mmarker\u001b[0m\u001b[0;34m=\u001b[0m\u001b[0;34m'.'\u001b[0m\u001b[0;34m,\u001b[0m \u001b[0mlabel\u001b[0m\u001b[0;34m=\u001b[0m\u001b[0;34m'acc'\u001b[0m\u001b[0;34m)\u001b[0m\u001b[0;34m\u001b[0m\u001b[0;34m\u001b[0m\u001b[0m\n",
            "\u001b[0;31mNameError\u001b[0m: name 'history' is not defined"
          ]
        }
      ]
    },
    {
      "cell_type": "markdown",
      "metadata": {
        "id": "bJCh8FE8YbTG"
      },
      "source": [
        "# New Section"
      ]
    }
  ]
}