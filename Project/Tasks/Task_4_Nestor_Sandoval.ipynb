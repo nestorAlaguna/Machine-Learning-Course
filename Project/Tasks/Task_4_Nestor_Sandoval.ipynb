{
 "cells": [
  {
   "cell_type": "code",
   "execution_count": 1,
   "metadata": {
    "execution": {
     "iopub.execute_input": "2021-08-13T00:34:53.952527Z",
     "iopub.status.busy": "2021-08-13T00:34:53.952158Z",
     "iopub.status.idle": "2021-08-13T00:34:59.580608Z",
     "shell.execute_reply": "2021-08-13T00:34:59.579305Z",
     "shell.execute_reply.started": "2021-08-13T00:34:53.952451Z"
    },
    "id": "uVaMG_SPzmk9",
    "outputId": "6f6ab8a7-d84c-423a-8c0b-eadfb883a810"
   },
   "outputs": [
    {
     "ename": "ModuleNotFoundError",
     "evalue": "No module named 'keras'",
     "output_type": "error",
     "traceback": [
      "\u001b[1;31m---------------------------------------------------------------------------\u001b[0m",
      "\u001b[1;31mModuleNotFoundError\u001b[0m                       Traceback (most recent call last)",
      "\u001b[1;32m<ipython-input-1-6329bbf52eb4>\u001b[0m in \u001b[0;36m<module>\u001b[1;34m\u001b[0m\n\u001b[1;32m----> 1\u001b[1;33m \u001b[1;32mfrom\u001b[0m \u001b[0mkeras\u001b[0m\u001b[1;33m.\u001b[0m\u001b[0mmodels\u001b[0m \u001b[1;32mimport\u001b[0m \u001b[0mSequential\u001b[0m\u001b[1;33m\u001b[0m\u001b[1;33m\u001b[0m\u001b[0m\n\u001b[0m\u001b[0;32m      2\u001b[0m \u001b[1;32mfrom\u001b[0m \u001b[0mkeras\u001b[0m\u001b[1;33m.\u001b[0m\u001b[0mlayers\u001b[0m \u001b[1;32mimport\u001b[0m \u001b[0mDense\u001b[0m\u001b[1;33m,\u001b[0m \u001b[0mDropout\u001b[0m\u001b[1;33m,\u001b[0m \u001b[0mFlatten\u001b[0m\u001b[1;33m,\u001b[0m\u001b[0mBatchNormalization\u001b[0m\u001b[1;33m,\u001b[0m\u001b[0mFlatten\u001b[0m\u001b[1;33m,\u001b[0m \u001b[0mActivation\u001b[0m\u001b[1;33m,\u001b[0m \u001b[0mSpatialDropout2D\u001b[0m\u001b[1;33m\u001b[0m\u001b[1;33m\u001b[0m\u001b[0m\n\u001b[0;32m      3\u001b[0m \u001b[1;32mfrom\u001b[0m \u001b[0mkeras\u001b[0m\u001b[1;33m.\u001b[0m\u001b[0mlayers\u001b[0m \u001b[1;32mimport\u001b[0m \u001b[0mConv2D\u001b[0m\u001b[1;33m,\u001b[0m \u001b[0mMaxPooling2D\u001b[0m\u001b[1;33m,\u001b[0m \u001b[0mConv1D\u001b[0m\u001b[1;33m\u001b[0m\u001b[1;33m\u001b[0m\u001b[0m\n\u001b[0;32m      4\u001b[0m \u001b[1;32mfrom\u001b[0m \u001b[0mmatplotlib\u001b[0m \u001b[1;32mimport\u001b[0m \u001b[0mpyplot\u001b[0m \u001b[1;32mas\u001b[0m \u001b[0mplt\u001b[0m\u001b[1;33m\u001b[0m\u001b[1;33m\u001b[0m\u001b[0m\n\u001b[0;32m      5\u001b[0m \u001b[1;32mimport\u001b[0m \u001b[0mnumpy\u001b[0m \u001b[1;32mas\u001b[0m \u001b[0mnp\u001b[0m\u001b[1;33m\u001b[0m\u001b[1;33m\u001b[0m\u001b[0m\n",
      "\u001b[1;31mModuleNotFoundError\u001b[0m: No module named 'keras'"
     ]
    }
   ],
   "source": [
    "from keras.models import Sequential\n",
    "from keras.layers import Dense, Dropout, Flatten,BatchNormalization,Flatten, Activation, SpatialDropout2D\n",
    "from keras.layers import Conv2D, MaxPooling2D, Conv1D\n",
    "from matplotlib import pyplot as plt\n",
    "import numpy as np"
   ]
  },
  {
   "cell_type": "code",
   "execution_count": 2,
   "metadata": {
    "execution": {
     "iopub.execute_input": "2021-08-13T00:34:59.582831Z",
     "iopub.status.busy": "2021-08-13T00:34:59.582382Z",
     "iopub.status.idle": "2021-08-13T00:35:09.225969Z",
     "shell.execute_reply": "2021-08-13T00:35:09.223818Z",
     "shell.execute_reply.started": "2021-08-13T00:34:59.582775Z"
    }
   },
   "outputs": [
    {
     "ename": "ModuleNotFoundError",
     "evalue": "No module named 'keras'",
     "output_type": "error",
     "traceback": [
      "\u001b[1;31m---------------------------------------------------------------------------\u001b[0m",
      "\u001b[1;31mModuleNotFoundError\u001b[0m                       Traceback (most recent call last)",
      "\u001b[1;32m<ipython-input-2-528d58651d6a>\u001b[0m in \u001b[0;36m<module>\u001b[1;34m\u001b[0m\n\u001b[0;32m      1\u001b[0m \u001b[1;31m#imagenet or CIFAR\u001b[0m\u001b[1;33m\u001b[0m\u001b[1;33m\u001b[0m\u001b[1;33m\u001b[0m\u001b[0m\n\u001b[1;32m----> 2\u001b[1;33m \u001b[1;32mfrom\u001b[0m \u001b[0mkeras\u001b[0m\u001b[1;33m.\u001b[0m\u001b[0mdatasets\u001b[0m \u001b[1;32mimport\u001b[0m \u001b[0mcifar10\u001b[0m\u001b[1;33m\u001b[0m\u001b[1;33m\u001b[0m\u001b[0m\n\u001b[0m\u001b[0;32m      3\u001b[0m \u001b[1;33m(\u001b[0m\u001b[0mx_train\u001b[0m\u001b[1;33m,\u001b[0m \u001b[0my_train\u001b[0m\u001b[1;33m)\u001b[0m\u001b[1;33m,\u001b[0m \u001b[1;33m(\u001b[0m\u001b[0mx_test\u001b[0m\u001b[1;33m,\u001b[0m \u001b[0my_test\u001b[0m\u001b[1;33m)\u001b[0m \u001b[1;33m=\u001b[0m \u001b[0mcifar10\u001b[0m\u001b[1;33m.\u001b[0m\u001b[0mload_data\u001b[0m\u001b[1;33m(\u001b[0m\u001b[1;33m)\u001b[0m\u001b[1;33m\u001b[0m\u001b[1;33m\u001b[0m\u001b[0m\n\u001b[0;32m      4\u001b[0m \u001b[1;31m# separate the train for validation\u001b[0m\u001b[1;33m\u001b[0m\u001b[1;33m\u001b[0m\u001b[1;33m\u001b[0m\u001b[0m\n\u001b[0;32m      5\u001b[0m \u001b[1;32mfrom\u001b[0m \u001b[0msklearn\u001b[0m\u001b[1;33m.\u001b[0m\u001b[0mmodel_selection\u001b[0m \u001b[1;32mimport\u001b[0m \u001b[0mtrain_test_split\u001b[0m\u001b[1;33m\u001b[0m\u001b[1;33m\u001b[0m\u001b[0m\n",
      "\u001b[1;31mModuleNotFoundError\u001b[0m: No module named 'keras'"
     ]
    }
   ],
   "source": [
    "#imagenet or CIFAR\n",
    "from keras.datasets import cifar10\n",
    "(x_train, y_train), (x_test, y_test) = cifar10.load_data()\n",
    "# separate the train for validation\n",
    "from sklearn.model_selection import train_test_split\n",
    "x_train1, x_valid, y_train1, y_valid = train_test_split(x_train, y_train, test_size=0.2)\n",
    "\n",
    "x_train = x_train1.astype('float32') / 255 \n",
    "x_valid = x_valid.astype('float32') / 255\n",
    "x_test = x_test.astype('float32') / 255\n",
    "\n",
    "from keras.utils.np_utils import to_categorical\n",
    "N = 10\n",
    "y_train = to_categorical(y_train1, N).reshape(-1,1,1,10)\n",
    "y_valid = to_categorical(y_valid, N).reshape(-1,1,1,10)\n",
    "y_test = to_categorical(y_test, N).reshape(-1,1,1,10)\n",
    "\n",
    "print(x_train.shape)\n",
    "print(x_valid.shape)\n",
    "print(x_test.shape)"
   ]
  },
  {
   "cell_type": "code",
   "execution_count": 3,
   "metadata": {
    "execution": {
     "iopub.execute_input": "2021-08-13T00:35:09.228865Z",
     "iopub.status.busy": "2021-08-13T00:35:09.228416Z",
     "iopub.status.idle": "2021-08-13T00:35:12.021440Z",
     "shell.execute_reply": "2021-08-13T00:35:12.020399Z",
     "shell.execute_reply.started": "2021-08-13T00:35:09.228810Z"
    },
    "id": "0CQbRJjUz5pX",
    "outputId": "a5438a85-a8e6-4498-ec8a-dc636f7f466f"
   },
   "outputs": [
    {
     "name": "stdout",
     "output_type": "stream",
     "text": [
      "Model: \"sequential\"\n",
      "_________________________________________________________________\n",
      "Layer (type)                 Output Shape              Param #   \n",
      "=================================================================\n",
      "conv2d (Conv2D)              (None, 16, 16, 64)        4864      \n",
      "_________________________________________________________________\n",
      "batch_normalization (BatchNo (None, 16, 16, 64)        256       \n",
      "_________________________________________________________________\n",
      "spatial_dropout2d (SpatialDr (None, 16, 16, 64)        0         \n",
      "_________________________________________________________________\n",
      "activation (Activation)      (None, 16, 16, 64)        0         \n",
      "_________________________________________________________________\n",
      "conv2d_1 (Conv2D)            (None, 8, 8, 192)         307392    \n",
      "_________________________________________________________________\n",
      "batch_normalization_1 (Batch (None, 8, 8, 192)         768       \n",
      "_________________________________________________________________\n",
      "spatial_dropout2d_1 (Spatial (None, 8, 8, 192)         0         \n",
      "_________________________________________________________________\n",
      "activation_1 (Activation)    (None, 8, 8, 192)         0         \n",
      "_________________________________________________________________\n",
      "conv2d_2 (Conv2D)            (None, 4, 4, 384)         663936    \n",
      "_________________________________________________________________\n",
      "batch_normalization_2 (Batch (None, 4, 4, 384)         1536      \n",
      "_________________________________________________________________\n",
      "spatial_dropout2d_2 (Spatial (None, 4, 4, 384)         0         \n",
      "_________________________________________________________________\n",
      "activation_2 (Activation)    (None, 4, 4, 384)         0         \n",
      "_________________________________________________________________\n",
      "conv2d_3 (Conv2D)            (None, 2, 2, 256)         2457856   \n",
      "_________________________________________________________________\n",
      "batch_normalization_3 (Batch (None, 2, 2, 256)         1024      \n",
      "_________________________________________________________________\n",
      "spatial_dropout2d_3 (Spatial (None, 2, 2, 256)         0         \n",
      "_________________________________________________________________\n",
      "activation_3 (Activation)    (None, 2, 2, 256)         0         \n",
      "_________________________________________________________________\n",
      "conv2d_4 (Conv2D)            (None, 1, 1, 256)         1638656   \n",
      "_________________________________________________________________\n",
      "batch_normalization_4 (Batch (None, 1, 1, 256)         1024      \n",
      "_________________________________________________________________\n",
      "spatial_dropout2d_4 (Spatial (None, 1, 1, 256)         0         \n",
      "_________________________________________________________________\n",
      "activation_4 (Activation)    (None, 1, 1, 256)         0         \n",
      "_________________________________________________________________\n",
      "conv2d_5 (Conv2D)            (None, 1, 1, 4096)        1052672   \n",
      "_________________________________________________________________\n",
      "batch_normalization_5 (Batch (None, 1, 1, 4096)        16384     \n",
      "_________________________________________________________________\n",
      "activation_5 (Activation)    (None, 1, 1, 4096)        0         \n",
      "_________________________________________________________________\n",
      "dropout (Dropout)            (None, 1, 1, 4096)        0         \n",
      "_________________________________________________________________\n",
      "conv2d_6 (Conv2D)            (None, 1, 1, 4096)        16781312  \n",
      "_________________________________________________________________\n",
      "batch_normalization_6 (Batch (None, 1, 1, 4096)        16384     \n",
      "_________________________________________________________________\n",
      "dropout_1 (Dropout)          (None, 1, 1, 4096)        0         \n",
      "_________________________________________________________________\n",
      "activation_6 (Activation)    (None, 1, 1, 4096)        0         \n",
      "_________________________________________________________________\n",
      "conv2d_7 (Conv2D)            (None, 1, 1, 10)          40970     \n",
      "_________________________________________________________________\n",
      "activation_7 (Activation)    (None, 1, 1, 10)          0         \n",
      "=================================================================\n",
      "Total params: 22,985,034\n",
      "Trainable params: 22,966,346\n",
      "Non-trainable params: 18,688\n",
      "_________________________________________________________________\n"
     ]
    }
   ],
   "source": [
    "def Model():\n",
    "  \n",
    "    model = Sequential()\n",
    "    \n",
    "    model.add(Conv2D(64, kernel_size=(5,5), strides = 2, padding='same', input_shape=(32, 32, 3))) # 1st Layer\n",
    "    model.add(BatchNormalization())\n",
    "    model.add(SpatialDropout2D(rate=0.3))\n",
    "    model.add(Activation('relu'))\n",
    "#     model.add(MaxPooling2D(pool_size=(2,2),  strides = 2, padding='same'))\n",
    "    \n",
    "    model.add(Conv2D(192, kernel_size=(5,5), strides = 2, padding='same'))       # 2nd Layer\n",
    "    model.add(BatchNormalization())\n",
    "    model.add(SpatialDropout2D(rate=0.3))\n",
    "    model.add(Activation('relu'))\n",
    "#     model.add(MaxPooling2D(pool_size=(2,2),  strides = 2))\n",
    "    \n",
    "    model.add(Conv2D(384, kernel_size=(3,3), strides = 2, padding='same'))       # 3rd Layer\n",
    "    model.add(BatchNormalization())\n",
    "    model.add(SpatialDropout2D(rate=0.3))\n",
    "    model.add(Activation('relu'))\n",
    "#     model.add(MaxPooling2D(pool_size=(2,2),  strides = 2))\n",
    "    \n",
    "    model.add(Conv2D(256, kernel_size=(5,5), strides = 2, padding='same',))       # 4th Layer\n",
    "    model.add(BatchNormalization())\n",
    "    model.add(SpatialDropout2D(rate=0.3))\n",
    "    model.add(Activation('relu'))\n",
    "#     model.add(MaxPooling2D(pool_size=(2,2),  strides = 2))\n",
    "    \n",
    "    model.add(Conv2D(256, kernel_size=(5,5), strides = 2, padding='same'))       # 5th Layer\n",
    "    model.add(BatchNormalization())\n",
    "    model.add(SpatialDropout2D(rate=0.3))\n",
    "    model.add(Activation('relu'))\n",
    "#     model.add(MaxPooling2D(pool_size=(2,2), strides = 2))\n",
    "    \n",
    "#     model.add(Flatten())\n",
    "    model.add(Conv2D(4096, kernel_size=(1,1), strides = 1, padding='same'))\n",
    "#     model.add(Dense(4096))                     # 6th Layer\n",
    "    model.add(BatchNormalization())\n",
    "    model.add(Activation('relu'))\n",
    "    model.add(Dropout(rate=0.5))\n",
    "    \n",
    "    model.add(Conv2D(4096, kernel_size=(1,1), strides = 1, padding='same'))\n",
    "#     model.add(Dense(4096))                     # 7th Layer\n",
    "    model.add(BatchNormalization())\n",
    "    model.add(Dropout(rate=0.5))\n",
    "    model.add(Activation('relu'))\n",
    "    \n",
    "    model.add(Conv2D(10, kernel_size=(1,1), strides = 1, padding='same'))\n",
    "#     model.add(Dense(10,activation='softmax'))                     # 8th Layer\n",
    "    model.add(Activation('softmax'))\n",
    "    return model\n",
    "\n",
    "\n",
    "model = Model()\n",
    "\n",
    "from keras.optimizers import RMSprop\n",
    "model.compile(loss='categorical_crossentropy',\n",
    "              # optimizer=RMSprop(learning_rate = 0.001),\n",
    "              optimizer = 'adam',\n",
    "              metrics=['accuracy'])\n",
    "\n",
    "model.summary()"
   ]
  },
  {
   "cell_type": "code",
   "execution_count": 4,
   "metadata": {
    "execution": {
     "iopub.execute_input": "2021-08-13T00:35:12.024653Z",
     "iopub.status.busy": "2021-08-13T00:35:12.024229Z",
     "iopub.status.idle": "2021-08-13T00:43:40.449568Z",
     "shell.execute_reply": "2021-08-13T00:43:40.447830Z",
     "shell.execute_reply.started": "2021-08-13T00:35:12.024611Z"
    },
    "id": "SmJtUM1-z6gW",
    "outputId": "893327dc-c427-4721-d8cc-a49b03ab8f24"
   },
   "outputs": [
    {
     "name": "stdout",
     "output_type": "stream",
     "text": [
      "Epoch 1/50\n",
      "313/313 [==============================] - 21s 37ms/step - loss: 2.5257 - accuracy: 0.2457 - val_loss: 1.9211 - val_accuracy: 0.2924\n",
      "Epoch 2/50\n",
      "313/313 [==============================] - 10s 32ms/step - loss: 1.8079 - accuracy: 0.4111 - val_loss: 2.3428 - val_accuracy: 0.4190\n",
      "Epoch 3/50\n",
      "313/313 [==============================] - 10s 31ms/step - loss: 1.6265 - accuracy: 0.4695 - val_loss: 1.3977 - val_accuracy: 0.4854\n",
      "Epoch 4/50\n",
      "313/313 [==============================] - 10s 32ms/step - loss: 1.4925 - accuracy: 0.5112 - val_loss: 1.1965 - val_accuracy: 0.5709\n",
      "Epoch 5/50\n",
      "313/313 [==============================] - 10s 31ms/step - loss: 1.4578 - accuracy: 0.5333 - val_loss: 1.5732 - val_accuracy: 0.4285\n",
      "Epoch 6/50\n",
      "313/313 [==============================] - 10s 32ms/step - loss: 1.3818 - accuracy: 0.5553 - val_loss: 1.3932 - val_accuracy: 0.5121\n",
      "Epoch 7/50\n",
      "313/313 [==============================] - 10s 32ms/step - loss: 1.2349 - accuracy: 0.5906 - val_loss: 1.1425 - val_accuracy: 0.5960\n",
      "Epoch 8/50\n",
      "313/313 [==============================] - 10s 31ms/step - loss: 1.2188 - accuracy: 0.6021 - val_loss: 1.1273 - val_accuracy: 0.6459\n",
      "Epoch 9/50\n",
      "313/313 [==============================] - 10s 32ms/step - loss: 1.1711 - accuracy: 0.6265 - val_loss: 1.0594 - val_accuracy: 0.6257\n",
      "Epoch 10/50\n",
      "313/313 [==============================] - 10s 32ms/step - loss: 1.0922 - accuracy: 0.6410 - val_loss: 1.1156 - val_accuracy: 0.6172\n",
      "Epoch 11/50\n",
      "313/313 [==============================] - 10s 32ms/step - loss: 1.0181 - accuracy: 0.6552 - val_loss: 1.0146 - val_accuracy: 0.6525\n",
      "Epoch 12/50\n",
      "313/313 [==============================] - 10s 32ms/step - loss: 0.9902 - accuracy: 0.6754 - val_loss: 1.0128 - val_accuracy: 0.6479\n",
      "Epoch 13/50\n",
      "313/313 [==============================] - 10s 31ms/step - loss: 0.9545 - accuracy: 0.6876 - val_loss: 0.8941 - val_accuracy: 0.6938\n",
      "Epoch 14/50\n",
      "313/313 [==============================] - 10s 32ms/step - loss: 0.8875 - accuracy: 0.7041 - val_loss: 1.0923 - val_accuracy: 0.6307\n",
      "Epoch 15/50\n",
      "313/313 [==============================] - 10s 32ms/step - loss: 0.8720 - accuracy: 0.7103 - val_loss: 1.1006 - val_accuracy: 0.6422\n",
      "Epoch 16/50\n",
      "313/313 [==============================] - 10s 31ms/step - loss: 0.8325 - accuracy: 0.7254 - val_loss: 0.8202 - val_accuracy: 0.7166\n",
      "Epoch 17/50\n",
      "313/313 [==============================] - 10s 32ms/step - loss: 0.7909 - accuracy: 0.7359 - val_loss: 0.8909 - val_accuracy: 0.6946\n",
      "Epoch 18/50\n",
      "313/313 [==============================] - 10s 31ms/step - loss: 0.7650 - accuracy: 0.7452 - val_loss: 0.9313 - val_accuracy: 0.6915\n",
      "Epoch 19/50\n",
      "313/313 [==============================] - 10s 31ms/step - loss: 0.7243 - accuracy: 0.7583 - val_loss: 0.8056 - val_accuracy: 0.7277\n",
      "Epoch 20/50\n",
      "313/313 [==============================] - 10s 31ms/step - loss: 0.6899 - accuracy: 0.7666 - val_loss: 0.8891 - val_accuracy: 0.7057\n",
      "Epoch 21/50\n",
      "313/313 [==============================] - 10s 32ms/step - loss: 0.6609 - accuracy: 0.7742 - val_loss: 1.1297 - val_accuracy: 0.6369\n",
      "Epoch 22/50\n",
      "313/313 [==============================] - 10s 32ms/step - loss: 0.6239 - accuracy: 0.7866 - val_loss: 0.9175 - val_accuracy: 0.6940\n",
      "Epoch 23/50\n",
      "313/313 [==============================] - 10s 31ms/step - loss: 0.5830 - accuracy: 0.8001 - val_loss: 0.8434 - val_accuracy: 0.7272\n",
      "Epoch 24/50\n",
      "313/313 [==============================] - 10s 32ms/step - loss: 0.5772 - accuracy: 0.8088 - val_loss: 0.8036 - val_accuracy: 0.7289\n",
      "Epoch 25/50\n",
      "313/313 [==============================] - 10s 31ms/step - loss: 0.5407 - accuracy: 0.8176 - val_loss: 0.7819 - val_accuracy: 0.7429\n",
      "Epoch 26/50\n",
      "313/313 [==============================] - 10s 31ms/step - loss: 0.5288 - accuracy: 0.8240 - val_loss: 0.9486 - val_accuracy: 0.7062\n",
      "Epoch 27/50\n",
      "313/313 [==============================] - 10s 32ms/step - loss: 0.4972 - accuracy: 0.8285 - val_loss: 0.9082 - val_accuracy: 0.7136\n",
      "Epoch 28/50\n",
      "313/313 [==============================] - 10s 32ms/step - loss: 0.4607 - accuracy: 0.8435 - val_loss: 0.8463 - val_accuracy: 0.7343\n",
      "Epoch 29/50\n",
      "313/313 [==============================] - 10s 31ms/step - loss: 0.4641 - accuracy: 0.8433 - val_loss: 0.9058 - val_accuracy: 0.7190\n",
      "Epoch 30/50\n",
      "313/313 [==============================] - 10s 31ms/step - loss: 0.4298 - accuracy: 0.8533 - val_loss: 0.9158 - val_accuracy: 0.7183\n",
      "Epoch 31/50\n",
      "313/313 [==============================] - 10s 32ms/step - loss: 0.3986 - accuracy: 0.8641 - val_loss: 0.8611 - val_accuracy: 0.7363\n",
      "Epoch 32/50\n",
      "313/313 [==============================] - 10s 32ms/step - loss: 0.4071 - accuracy: 0.8608 - val_loss: 0.8493 - val_accuracy: 0.7387\n",
      "Epoch 33/50\n",
      "313/313 [==============================] - 10s 31ms/step - loss: 0.3722 - accuracy: 0.8700 - val_loss: 1.0374 - val_accuracy: 0.6982\n",
      "Epoch 34/50\n",
      "313/313 [==============================] - 10s 32ms/step - loss: 0.3621 - accuracy: 0.8747 - val_loss: 0.8810 - val_accuracy: 0.7334\n",
      "Epoch 35/50\n",
      "313/313 [==============================] - 10s 31ms/step - loss: 0.3423 - accuracy: 0.8829 - val_loss: 0.9145 - val_accuracy: 0.7243\n",
      "Epoch 36/50\n",
      "313/313 [==============================] - 10s 31ms/step - loss: 0.3686 - accuracy: 0.8788 - val_loss: 1.0553 - val_accuracy: 0.7057\n",
      "Epoch 37/50\n",
      "313/313 [==============================] - 10s 32ms/step - loss: 0.3409 - accuracy: 0.8835 - val_loss: 0.9993 - val_accuracy: 0.7138\n",
      "Epoch 38/50\n",
      "313/313 [==============================] - 10s 31ms/step - loss: 0.3333 - accuracy: 0.8878 - val_loss: 0.9485 - val_accuracy: 0.7292\n",
      "Epoch 39/50\n",
      "313/313 [==============================] - 10s 32ms/step - loss: 0.3095 - accuracy: 0.8962 - val_loss: 0.8779 - val_accuracy: 0.7422\n",
      "Epoch 40/50\n",
      "313/313 [==============================] - 10s 31ms/step - loss: 0.2820 - accuracy: 0.9010 - val_loss: 1.1502 - val_accuracy: 0.6894\n",
      "Epoch 41/50\n",
      "313/313 [==============================] - 10s 32ms/step - loss: 0.2838 - accuracy: 0.9004 - val_loss: 0.8912 - val_accuracy: 0.7461\n",
      "Epoch 42/50\n",
      "313/313 [==============================] - 10s 31ms/step - loss: 0.2713 - accuracy: 0.9085 - val_loss: 1.0645 - val_accuracy: 0.7144\n",
      "Epoch 43/50\n",
      "313/313 [==============================] - 10s 31ms/step - loss: 0.2648 - accuracy: 0.9087 - val_loss: 0.9971 - val_accuracy: 0.7285\n",
      "Epoch 44/50\n",
      "313/313 [==============================] - 10s 32ms/step - loss: 0.2644 - accuracy: 0.9110 - val_loss: 0.9665 - val_accuracy: 0.7315\n",
      "Epoch 45/50\n",
      "313/313 [==============================] - 10s 31ms/step - loss: 0.2698 - accuracy: 0.9102 - val_loss: 0.9267 - val_accuracy: 0.7461\n",
      "Epoch 46/50\n",
      "313/313 [==============================] - 10s 31ms/step - loss: 0.3032 - accuracy: 0.8985 - val_loss: 1.0764 - val_accuracy: 0.7085\n",
      "Epoch 47/50\n",
      "313/313 [==============================] - 10s 32ms/step - loss: 0.2606 - accuracy: 0.9107 - val_loss: 0.9233 - val_accuracy: 0.7433\n",
      "Epoch 48/50\n",
      "313/313 [==============================] - 10s 31ms/step - loss: 0.2387 - accuracy: 0.9185 - val_loss: 0.9559 - val_accuracy: 0.7373\n",
      "Epoch 49/50\n",
      "313/313 [==============================] - 10s 31ms/step - loss: 0.2356 - accuracy: 0.9208 - val_loss: 0.9394 - val_accuracy: 0.7481\n",
      "Epoch 50/50\n",
      "313/313 [==============================] - 10s 31ms/step - loss: 0.2176 - accuracy: 0.9241 - val_loss: 0.9824 - val_accuracy: 0.7395\n",
      "Test loss: 1.0140632390975952\n",
      "Test accuracy: 0.734499990940094\n"
     ]
    }
   ],
   "source": [
    "# verbose = setting up the progress bar\n",
    "history = model.fit(x_train, y_train, batch_size=128, epochs=50, verbose=1, validation_data=(x_valid, y_valid))\n",
    "\n",
    "# model.save_weights(\"mnist.hdf5\") \n",
    "score = model.evaluate(x_test, y_test, verbose=0)\n",
    "print('Test loss:', score[0])\n",
    "print('Test accuracy:', score[1])"
   ]
  },
  {
   "cell_type": "code",
   "execution_count": 5,
   "metadata": {
    "execution": {
     "iopub.execute_input": "2021-08-13T00:43:40.458014Z",
     "iopub.status.busy": "2021-08-13T00:43:40.455269Z",
     "iopub.status.idle": "2021-08-13T00:43:43.188710Z",
     "shell.execute_reply": "2021-08-13T00:43:43.187614Z",
     "shell.execute_reply.started": "2021-08-13T00:43:40.457965Z"
    },
    "id": "m4Xd0xHOQW06",
    "outputId": "e53f385f-984e-49d3-b9f4-834c62082df1"
   },
   "outputs": [
    {
     "name": "stdout",
     "output_type": "stream",
     "text": [
      "313/313 [==============================] - 2s 8ms/step - loss: 1.0141 - accuracy: 0.7345\n"
     ]
    },
    {
     "data": {
      "text/plain": [
       "[1.0140632390975952, 0.734499990940094]"
      ]
     },
     "execution_count": 5,
     "metadata": {},
     "output_type": "execute_result"
    }
   ],
   "source": [
    "model.evaluate(x_test,y_test)"
   ]
  },
  {
   "cell_type": "code",
   "execution_count": 6,
   "metadata": {
    "execution": {
     "iopub.execute_input": "2021-08-13T00:43:43.192488Z",
     "iopub.status.busy": "2021-08-13T00:43:43.192179Z",
     "iopub.status.idle": "2021-08-13T00:43:43.732486Z",
     "shell.execute_reply": "2021-08-13T00:43:43.731395Z",
     "shell.execute_reply.started": "2021-08-13T00:43:43.192457Z"
    },
    "id": "GUFgKHc-0TDt",
    "outputId": "af31b43f-b504-4031-d3b4-943fed42d69e"
   },
   "outputs": [
    {
     "data": {
      "image/png": "[encoded data removed]",
      "text/plain": [
       "<Figure size 432x288 with 1 Axes>"
      ]
     },
     "metadata": {
      "needs_background": "light"
     },
     "output_type": "display_data"
    },
    {
     "data": {
      "image/png": "[encoded data removed]",
      "text/plain": [
       "<Figure size 432x288 with 1 Axes>"
      ]
     },
     "metadata": {
      "needs_background": "light"
     },
     "output_type": "display_data"
    }
   ],
   "source": [
    "# plot\n",
    "plt.plot(history.history['accuracy'], marker='.', label='acc')\n",
    "plt.plot(history.history['val_accuracy'], marker='.', label='val_acc')\n",
    "plt.title('Model Accuracy')\n",
    "plt.savefig('task4_accuracy.jpeg')\n",
    "plt.grid()\n",
    "plt.xlabel('Epoch')\n",
    "plt.ylabel('Accuracy')\n",
    "plt.legend(loc='best')\n",
    "plt.show()\n",
    "\n",
    "# plot\n",
    "plt.plot(history.history['loss'], marker='.', label='loss')\n",
    "plt.plot(history.history['val_loss'], marker='.', label='val_loss')\n",
    "plt.title('Model Loss')\n",
    "plt.savefig('task4_loss.jpeg')\n",
    "plt.grid()\n",
    "plt.xlabel('Epoch')\n",
    "plt.ylabel('Loss')\n",
    "plt.legend(loc='best')\n",
    "plt.show()"
   ]
  }
 ],
 "metadata": {
  "kernelspec": {
   "display_name": "Python 3",
   "language": "python",
   "name": "python3"
  },
  "language_info": {
   "codemirror_mode": {
    "name": "ipython",
    "version": 3
   },
   "file_extension": ".py",
   "mimetype": "text/x-python",
   "name": "python",
   "nbconvert_exporter": "python",
   "pygments_lexer": "ipython3",
   "version": "3.6.10"
  }
 },
 "nbformat": 4,
 "nbformat_minor": 4
}
